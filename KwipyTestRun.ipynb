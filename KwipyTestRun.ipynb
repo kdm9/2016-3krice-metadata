{
 "cells": [
  {
   "cell_type": "code",
   "execution_count": null,
   "metadata": {
    "collapsed": false
   },
   "outputs": [],
   "source": [
    "from __future__ import division, print_function, absolute_import\n",
    "from metadata import load_pd, runs_groupby, zfilter\n",
    "import numpy as np\n",
    "from numpy import random\n",
    "from scipy import stats\n",
    "import pandas as pd\n",
    "import json\n",
    "import seaborn as sns\n",
    "\n",
    "%matplotlib inline\n",
    "random.seed(3112)"
   ]
  },
  {
   "cell_type": "code",
   "execution_count": null,
   "metadata": {
    "collapsed": false
   },
   "outputs": [],
   "source": [
    "alldf = load_pd('all_25228runs_raw.csv')\n",
    "alldf['coverage'] = alldf.num_bases/4e8\n",
    "sns.distplot(alldf.coverage)"
   ]
  },
  {
   "cell_type": "code",
   "execution_count": null,
   "metadata": {
    "collapsed": false
   },
   "outputs": [],
   "source": [
    "filtdf = zfilter(alldf, 'coverage', 1)\n",
    "print(len(alldf), len(filtdf))\n",
    "print(alldf.coverage.mean(), min(filtdf.coverage), max(filtdf.coverage))\n",
    "sns.distplot(filtdf.coverage)"
   ]
  },
  {
   "cell_type": "code",
   "execution_count": null,
   "metadata": {
    "collapsed": false
   },
   "outputs": [],
   "source": [
    "sumdf = alldf.groupby('sra_sample').sum()\n",
    "sns.distplot(sumdf.coverage)"
   ]
  },
  {
   "cell_type": "code",
   "execution_count": null,
   "metadata": {
    "collapsed": false
   },
   "outputs": [],
   "source": [
    "fsumdf = zfilter(sumdf, 'coverage', 1)\n",
    "print(len(fsumdf))\n",
    "sns.distplot(fsumdf.coverage)"
   ]
  },
  {
   "cell_type": "code",
   "execution_count": null,
   "metadata": {
    "collapsed": false
   },
   "outputs": [],
   "source": [
    "\n",
    "with open(\"sets/closest/all_closest_6m.txt\", 'w') as fh:\n",
    "    for sruns in runs.values():\n",
    "        for r in sruns:\n",
    "            print(r, file=fh)\n",
    "with open(\"sets/closest/all_closest_6m.json\", 'w') as fh:\n",
    "    json.dump(runs, fh)"
   ]
  },
  {
   "cell_type": "code",
   "execution_count": null,
   "metadata": {
    "collapsed": false
   },
   "outputs": [],
   "source": []
  }
 ],
 "metadata": {
  "kernelspec": {
   "display_name": "Python 3",
   "language": "python",
   "name": "python3"
  },
  "language_info": {
   "codemirror_mode": {
    "name": "ipython",
    "version": 3
   },
   "file_extension": ".py",
   "mimetype": "text/x-python",
   "name": "python",
   "nbconvert_exporter": "python",
   "pygments_lexer": "ipython3",
   "version": "3.5.1+"
  }
 },
 "nbformat": 4,
 "nbformat_minor": 0
}
