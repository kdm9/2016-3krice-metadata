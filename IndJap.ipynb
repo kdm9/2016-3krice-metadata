{
 "cells": [
  {
   "cell_type": "code",
   "execution_count": null,
   "metadata": {
    "collapsed": false
   },
   "outputs": [],
   "source": [
    "from collections import defaultdict, Counter\n",
    "from string import ascii_uppercase\n",
    "from os import path\n",
    "import os\n",
    "import shutil\n",
    "import json\n",
    "\n",
    "from metadata import load_csv, zfilter\n",
    "\n",
    "import pandas as pd\n",
    "from numpy import random\n",
    "import numpy as np\n",
    "\n",
    "random.seed(123456)\n",
    "\n",
    "%matplotlib inline"
   ]
  },
  {
   "cell_type": "code",
   "execution_count": null,
   "metadata": {
    "collapsed": false
   },
   "outputs": [],
   "source": [
    "supergroups = {\n",
    "    'indica':               'Indica',\n",
    "    'japonica':             'Japonica',\n",
    "    'temperate japonica':   'Japonica',\n",
    "    'tropical japonica':    'Japonica',\n",
    "}"
   ]
  },
  {
   "cell_type": "code",
   "execution_count": null,
   "metadata": {
    "collapsed": false
   },
   "outputs": [],
   "source": [
    "allruns = load_csv(\"all_25228runs_raw.csv\")"
   ]
  },
  {
   "cell_type": "code",
   "execution_count": null,
   "metadata": {
    "collapsed": false
   },
   "outputs": [],
   "source": [
    "allpd = pd.DataFrame(allruns)\n",
    "allpd['group'] = allpd.group.str.lower()\n",
    "allpd['supergroup'] = [supergroups.get(g, 'other') for g in allpd.group]"
   ]
  },
  {
   "cell_type": "code",
   "execution_count": null,
   "metadata": {
    "collapsed": false
   },
   "outputs": [],
   "source": [
    "indjap = allpd.query('supergroup in [\"Indica\", \"Japonica\"]')\n",
    "\n",
    "print(\"Groups:\")\n",
    "for g, c in Counter(list(indjap.group)).most_common():\n",
    "    print(\"  -\", g, c)\n",
    "print(\"Supergroups:\")\n",
    "for g, c in Counter(list(indjap.supergroup)).most_common():\n",
    "    print(\"  -\", g, c)\n",
    "   "
   ]
  },
  {
   "cell_type": "code",
   "execution_count": null,
   "metadata": {
    "collapsed": false
   },
   "outputs": [],
   "source": [
    "# Remove all samples that weren't sequenced as 6 runs\n",
    "indjap = indjap.groupby('sra_sample').filter(lambda x: len(x) == 6)\n",
    "print(\"Select 6s:\", len(indjap))\n",
    "\n",
    "# Remove all runs outside 1 sd from mean number of reads\n",
    "indjap = zfilter(indjap, 'num_reads', 1)\n",
    "print(\"Z-score filtering:\", len(indjap))\n",
    "# Remove all samps with fewer than 6 remaining runs\n",
    "indjap = indjap.groupby('sra_sample').filter(lambda x: len(x) == 6)\n",
    "print(\"6s again:\", len(indjap))"
   ]
  },
  {
   "cell_type": "code",
   "execution_count": null,
   "metadata": {
    "collapsed": false
   },
   "outputs": [],
   "source": [
    "indjap.groupby('supergroup').supergroup.count()"
   ]
  },
  {
   "cell_type": "code",
   "execution_count": null,
   "metadata": {
    "collapsed": false
   },
   "outputs": [],
   "source": [
    "groups = defaultdict(list)\n",
    "sampgrp = {}\n",
    "for group, runs in indjap.groupby('supergroup'):\n",
    "    for samp in runs.sra_sample.unique():\n",
    "        groups[group].append(samp)\n",
    "        sampgrp[samp] = group"
   ]
  },
  {
   "cell_type": "code",
   "execution_count": null,
   "metadata": {
    "collapsed": false
   },
   "outputs": [],
   "source": [
    "def genset(groups,  each=8):\n",
    "    sample = set()\n",
    "    for group, items in groups.items():\n",
    "        while len(sample) < each:\n",
    "            sample.add(random.choice(items))\n",
    "    return tuple(sample)"
   ]
  },
  {
   "cell_type": "code",
   "execution_count": null,
   "metadata": {
    "collapsed": false
   },
   "outputs": [],
   "source": [
    "outdir = \"sets/96s\"\n",
    "try:\n",
    "    shutil.rmtree(outdir)\n",
    "except Exception as e:\n",
    "    print(str(e))\n",
    "os.mkdir(outdir)"
   ]
  },
  {
   "cell_type": "code",
   "execution_count": null,
   "metadata": {
    "collapsed": false
   },
   "outputs": [],
   "source": [
    "ngroup = 100\n",
    "allruns = set()\n",
    "allsets = set()\n",
    "\n",
    "i = 0\n",
    "while i < 100:\n",
    "    samples = genset(groups, each=8)\n",
    "    if samples in allsets:\n",
    "        continue\n",
    "    i += 1\n",
    "    allsets.add(samples)\n",
    "    label = \"{0:0{width}d}\".format(i + 1, width=int(np.ceil(np.log10(ngroup + 1))))\n",
    "    outfile = path.join(outdir, \"3krice_set_{}.txt\".format(label))\n",
    "    jsonf = outfile + '.json'\n",
    "    setjson = defaultdict(dict)\n",
    "    setruns = []\n",
    "    for sample in samples:\n",
    "        sampruns = []\n",
    "        for run in indjap.query('sra_sample == \"{}\"'.format(sample)).sra_id:\n",
    "            sampruns.append(run)\n",
    "            setruns.append(run)\n",
    "            allruns.add(run)\n",
    "        setjson[sampgrp[samp]][sample] = sampruns\n",
    "    with open(outfile, 'w') as fh:\n",
    "        for run in setruns:\n",
    "            print(run, file=fh)\n",
    "\n",
    "with open(path.join(outdir, \"3krice_set_ALL.txt\"), 'w') as fh:\n",
    "    for run in sorted(allruns):\n",
    "        print(run, file=fh)"
   ]
  },
  {
   "cell_type": "code",
   "execution_count": null,
   "metadata": {
    "collapsed": false
   },
   "outputs": [],
   "source": [
    "len(allruns)"
   ]
  },
  {
   "cell_type": "code",
   "execution_count": null,
   "metadata": {
    "collapsed": false
   },
   "outputs": [],
   "source": []
  }
 ],
 "metadata": {
  "kernelspec": {
   "display_name": "Python 3",
   "language": "python",
   "name": "python3"
  },
  "language_info": {
   "codemirror_mode": {
    "name": "ipython",
    "version": 3
   },
   "file_extension": ".py",
   "mimetype": "text/x-python",
   "name": "python",
   "nbconvert_exporter": "python",
   "pygments_lexer": "ipython3",
   "version": "3.5.2"
  }
 },
 "nbformat": 4,
 "nbformat_minor": 0
}
