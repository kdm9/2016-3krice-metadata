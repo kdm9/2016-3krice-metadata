{
 "cells": [
  {
   "cell_type": "code",
   "execution_count": null,
   "metadata": {
    "collapsed": false
   },
   "outputs": [],
   "source": [
    "from collections import defaultdict, Counter\n",
    "from string import ascii_uppercase\n",
    "from os import path\n",
    "import os\n",
    "\n",
    "from metadata import load_csv, zfilter\n",
    "\n",
    "import pandas as pd\n",
    "from numpy import random\n",
    "import numpy as np\n",
    "\n",
    "\n",
    "%matplotlib inline"
   ]
  },
  {
   "cell_type": "code",
   "execution_count": null,
   "metadata": {
    "collapsed": false
   },
   "outputs": [],
   "source": [
    "supergroups = {\n",
    "    'indica':               'Indica',\n",
    "    'japonica':             'Japonica',\n",
    "    'temperate japonica':   'Japonica',\n",
    "    'tropical japonica':    'Japonica',\n",
    "}"
   ]
  },
  {
   "cell_type": "code",
   "execution_count": null,
   "metadata": {
    "collapsed": false
   },
   "outputs": [],
   "source": [
    "allruns = load_csv(\"all_25228runs_raw.csv\")"
   ]
  },
  {
   "cell_type": "code",
   "execution_count": null,
   "metadata": {
    "collapsed": false
   },
   "outputs": [],
   "source": [
    "allpd = pd.DataFrame(allruns)\n",
    "allpd['group'] = allpd.group.str.lower()\n",
    "allpd['supergroup'] = [supergroups.get(g, 'other') for g in allpd.group]"
   ]
  },
  {
   "cell_type": "code",
   "execution_count": null,
   "metadata": {
    "collapsed": false
   },
   "outputs": [],
   "source": [
    "indjap = allpd.query('supergroup in [\"Indica\", \"Japonica\"]')\n",
    "\n",
    "print(\"Groups:\")\n",
    "for g, c in Counter(list(indjap.group)).most_common():\n",
    "    print(\"  -\", g, c)\n",
    "print(\"Supergroups:\")\n",
    "for g, c in Counter(list(indjap.supergroup)).most_common():\n",
    "    print(\"  -\", g, c)\n",
    "   "
   ]
  },
  {
   "cell_type": "code",
   "execution_count": null,
   "metadata": {
    "collapsed": false
   },
   "outputs": [],
   "source": [
    "print()\n",
    "# Remove all samples that weren't sequenced as 6 runs\n",
    "indjap = indjap.groupby('sra_sample').filter(lambda x: len(x) == 6)\n",
    "print(\"Select 6s:\", len(indjap))\n",
    "\n",
    "# Remove all runs outside 1 sd from mean number of reads\n",
    "indjap = zfilter(indjap, 'num_reads', 1)\n",
    "print(\"Z-score filtering:\", len(indjap))\n",
    "# Remove all samps with fewer than 6 remaining runs\n",
    "indjap = indjap.groupby('sra_sample').filter(lambda x: len(x) == 6)\n",
    "print(\"6s again:\", len(indjap))"
   ]
  },
  {
   "cell_type": "code",
   "execution_count": null,
   "metadata": {
    "collapsed": false
   },
   "outputs": [],
   "source": [
    "indjap.groupby('supergroup').supergroup.count()"
   ]
  },
  {
   "cell_type": "code",
   "execution_count": null,
   "metadata": {
    "collapsed": false
   },
   "outputs": [],
   "source": [
    "groups = defaultdict(list)\n",
    "for group, runs in indjap.groupby('supergroup'):\n",
    "    for samp in runs.sra_sample.unique():\n",
    "        groups[group].append(samp)"
   ]
  },
  {
   "cell_type": "code",
   "execution_count": null,
   "metadata": {
    "collapsed": false
   },
   "outputs": [],
   "source": [
    "def gensets(groups, n, each=8):\n",
    "    for _ in range(n):\n",
    "        sample = list()\n",
    "        for group, items in groups.items():\n",
    "            for i in random.choice(len(items), each):\n",
    "                sample.append(items[i])\n",
    "        yield sample"
   ]
  },
  {
   "cell_type": "code",
   "execution_count": null,
   "metadata": {
    "collapsed": false
   },
   "outputs": [],
   "source": [
    "try:\n",
    "    os.rmdir('sets')\n",
    "except:\n",
    "    pass\n",
    "os.mkdir('sets')"
   ]
  },
  {
   "cell_type": "code",
   "execution_count": null,
   "metadata": {
    "collapsed": false
   },
   "outputs": [],
   "source": [
    "ngroup = 100\n",
    "allruns = set()\n",
    "\n",
    "for i, samples in enumerate(gensets(groups, 100, each=8)):\n",
    "    label = \"{0:0{width}d}\".format(i + 1, width=int(np.ceil(np.log10(ngroup + 1))))\n",
    "    outfile = \"sets/3krice_set_{}.txt\".format(label)\n",
    "    with open(outfile, 'w') as fh:\n",
    "        for sample in samples:\n",
    "            for run in indjap.query('sra_sample == \"{}\"'.format(sample)).sra_id:\n",
    "                print(run, file=fh)\n",
    "                allruns.add(run)\n",
    "with open(\"sets/3krice_set_ALL.txt\", 'w') as fh:\n",
    "    for run in sorted(allruns):\n",
    "        print(run, file=fh)"
   ]
  },
  {
   "cell_type": "code",
   "execution_count": null,
   "metadata": {
    "collapsed": false
   },
   "outputs": [],
   "source": [
    "len(allruns)"
   ]
  },
  {
   "cell_type": "code",
   "execution_count": null,
   "metadata": {
    "collapsed": false
   },
   "outputs": [],
   "source": []
  }
 ],
 "metadata": {
  "kernelspec": {
   "display_name": "Python 3",
   "language": "python",
   "name": "python3"
  },
  "language_info": {
   "codemirror_mode": {
    "name": "ipython",
    "version": 3
   },
   "file_extension": ".py",
   "mimetype": "text/x-python",
   "name": "python",
   "nbconvert_exporter": "python",
   "pygments_lexer": "ipython3",
   "version": "3.5.1+"
  }
 },
 "nbformat": 4,
 "nbformat_minor": 0
}
