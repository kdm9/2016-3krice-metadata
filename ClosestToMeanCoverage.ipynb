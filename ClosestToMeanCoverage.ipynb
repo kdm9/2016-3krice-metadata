{
 "cells": [
  {
   "cell_type": "code",
   "execution_count": null,
   "metadata": {
    "collapsed": false
   },
   "outputs": [],
   "source": [
    "from __future__ import division, print_function, absolute_import\n",
    "from metadata import load_csv, runs_groupby, zfilter\n",
    "import numpy as np\n",
    "from scipy import stats\n",
    "import pandas as pd\n",
    "import json\n",
    "\n",
    "%matplotlib inline"
   ]
  },
  {
   "cell_type": "code",
   "execution_count": null,
   "metadata": {
    "collapsed": false
   },
   "outputs": [],
   "source": [
    "allruns = load_csv('all_25228runs_raw.csv')"
   ]
  },
  {
   "cell_type": "code",
   "execution_count": null,
   "metadata": {
    "collapsed": false
   },
   "outputs": [],
   "source": [
    "alldf = pd.DataFrame(allruns)\n",
    "alldf['coverage'] = alldf.num_bases/4e8\n",
    "alldf.coverage.plot('box')"
   ]
  },
  {
   "cell_type": "code",
   "execution_count": null,
   "metadata": {
    "collapsed": false
   },
   "outputs": [],
   "source": [
    "filtdf = zfilter(alldf, 'coverage', 1)\n",
    "print(len(alldf), len(filtdf))\n",
    "print(alldf.coverage.mean(), min(filtdf.coverage), max(filtdf.coverage))\n",
    "filtdf.coverage.plot('box')"
   ]
  },
  {
   "cell_type": "code",
   "execution_count": null,
   "metadata": {
    "collapsed": false
   },
   "outputs": [],
   "source": [
    "sumdf = alldf.groupby('sra_sample').sum()\n",
    "sumdf.coverage.plot(\"box\")"
   ]
  },
  {
   "cell_type": "code",
   "execution_count": null,
   "metadata": {
    "collapsed": false
   },
   "outputs": [],
   "source": [
    "fsumdf = zfilter(sumdf, 'coverage', 1)\n",
    "fsumdf.coverage.plot('box')\n",
    "print(len(fsumdf))"
   ]
  },
  {
   "cell_type": "code",
   "execution_count": null,
   "metadata": {
    "collapsed": false
   },
   "outputs": [],
   "source": [
    "def pick_closest(runs, target, n, mn=None, mx=None):\n",
    "    selected = []\n",
    "    selruns = {}\n",
    "    for sample, df in runs.groupby('sra_sample'):\n",
    "        # Filter out bad runs\n",
    "        if mx:\n",
    "            df = df[df.num_reads <= mx]\n",
    "        if mn:\n",
    "            df = df[df.num_reads >= mn]\n",
    "        idx = (df.num_reads - target).abs().argsort()\n",
    "        if len(idx) == 0:\n",
    "            continue\n",
    "        elif len(idx) > n:\n",
    "            idx = idx[:n]\n",
    "        samp = df.iloc[idx]\n",
    "        srrs = list(samp.sra_id)\n",
    "        selruns[sample] = srrs\n",
    "        selected.append(samp)\n",
    "    return (selruns, pd.concat(selected))"
   ]
  },
  {
   "cell_type": "code",
   "execution_count": null,
   "metadata": {
    "collapsed": false
   },
   "outputs": [],
   "source": [
    "runs, df = pick_closest(filtdf, alldf.num_reads.mean(), 1)"
   ]
  },
  {
   "cell_type": "code",
   "execution_count": null,
   "metadata": {
    "collapsed": false
   },
   "outputs": [],
   "source": [
    "df.coverage.plot('box')\n",
    "print(len(df))"
   ]
  },
  {
   "cell_type": "code",
   "execution_count": null,
   "metadata": {
    "collapsed": false
   },
   "outputs": [],
   "source": [
    "! rm -rf sets/closest && mkdir -p sets/closest"
   ]
  },
  {
   "cell_type": "code",
   "execution_count": null,
   "metadata": {
    "collapsed": false
   },
   "outputs": [],
   "source": [
    "with open(\"sets/closest/all_closest_6m.txt\", 'w') as fh:\n",
    "    for sruns in runs.values():\n",
    "        for r in sruns:\n",
    "            print(r, file=fh)\n",
    "with open(\"sets/closest/all_closest_6m.json\", 'w') as fh:\n",
    "    json.dump(runs, fh)"
   ]
  }
 ],
 "metadata": {
  "kernelspec": {
   "display_name": "Python 3",
   "language": "python",
   "name": "python3"
  },
  "language_info": {
   "codemirror_mode": {
    "name": "ipython",
    "version": 3
   },
   "file_extension": ".py",
   "mimetype": "text/x-python",
   "name": "python",
   "nbconvert_exporter": "python",
   "pygments_lexer": "ipython3",
   "version": "3.5.1+"
  }
 },
 "nbformat": 4,
 "nbformat_minor": 0
}
